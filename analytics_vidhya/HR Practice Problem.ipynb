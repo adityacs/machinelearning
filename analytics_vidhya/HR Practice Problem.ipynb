{
 "cells": [
  {
   "cell_type": "code",
   "execution_count": 9,
   "metadata": {
    "collapsed": true
   },
   "outputs": [],
   "source": [
    "import pandas as pd\n",
    "import matplotlib.pyplot as plt\n",
    "import numpy as np\n",
    "from sklearn.model_selection import train_test_split"
   ]
  },
  {
   "cell_type": "code",
   "execution_count": 103,
   "metadata": {
    "collapsed": true
   },
   "outputs": [],
   "source": [
    "data = pd.read_csv(\"C:\\\\Users\\\\csad\\\\Downloads\\\\train_LZdllcl.csv\")\n",
    "data_test = pd.read_csv(\"C:\\\\Users\\\\csad\\\\Downloads\\\\test_2umaH9m.csv\")"
   ]
  },
  {
   "cell_type": "code",
   "execution_count": 104,
   "metadata": {},
   "outputs": [
    {
     "name": "stdout",
     "output_type": "stream",
     "text": [
      "          department     region         education gender recruitment_channel  \\\n",
      "0  Sales & Marketing   region_7  Master's & above      f            sourcing   \n",
      "1         Operations  region_22        Bachelor's      m               other   \n",
      "2  Sales & Marketing  region_19        Bachelor's      m            sourcing   \n",
      "3  Sales & Marketing  region_23        Bachelor's      m               other   \n",
      "4         Technology  region_26        Bachelor's      m               other   \n",
      "\n",
      "   no_of_trainings  age  previous_year_rating  length_of_service  \\\n",
      "0                1   35                   5.0                  8   \n",
      "1                1   30                   5.0                  4   \n",
      "2                1   34                   3.0                  7   \n",
      "3                2   39                   1.0                 10   \n",
      "4                1   45                   3.0                  2   \n",
      "\n",
      "   KPIs_met >80%  awards_won?  avg_training_score  \n",
      "0              1            0                  49  \n",
      "1              0            0                  60  \n",
      "2              0            0                  50  \n",
      "3              0            0                  50  \n",
      "4              0            0                  73  \n",
      "(23490, 12)\n"
     ]
    }
   ],
   "source": [
    "\n",
    "X = data.iloc[:, 1:13]\n",
    "y = data.iloc[:, -1]\n",
    "print X.head(5)\n",
    "X_test = data_test.iloc[:, 1:13]\n",
    "print X_test.shape"
   ]
  },
  {
   "cell_type": "code",
   "execution_count": 105,
   "metadata": {
    "collapsed": true
   },
   "outputs": [],
   "source": [
    "from sklearn.preprocessing import LabelEncoder\n",
    "\n",
    "label_X_train_test = X.copy().append(X_test.copy())\n",
    "\n",
    "# Apply one-hot encoder to each column with categorical data\n",
    "label_encoder = LabelEncoder()\n",
    "for col in object_cols:\n",
    "    label_X_train_test[col] = label_encoder.fit_transform(label_X_train_test[col])\n",
    "\n",
    "label_X = label_X_train_test[0:len(X)]\n",
    "label_X_test = label_X_train_test[len(X):len(label_X_train_test)]"
   ]
  },
  {
   "cell_type": "code",
   "execution_count": 106,
   "metadata": {},
   "outputs": [
    {
     "name": "stdout",
     "output_type": "stream",
     "text": [
      "Categorical variables:\n",
      "[]\n"
     ]
    }
   ],
   "source": [
    "# Get list of categorical variables\n",
    "s = (X_train.dtypes == 'object')\n",
    "object_cols = list(s[s].index)\n",
    "\n",
    "print(\"Categorical variables:\")\n",
    "print(object_cols)"
   ]
  },
  {
   "cell_type": "code",
   "execution_count": 107,
   "metadata": {},
   "outputs": [],
   "source": [
    "X_train, X_valid, y_train, y_valid = train_test_split(label_X, y, train_size=0.8, test_size=0.2, random_state=0)"
   ]
  },
  {
   "cell_type": "code",
   "execution_count": 108,
   "metadata": {},
   "outputs": [
    {
     "name": "stderr",
     "output_type": "stream",
     "text": [
      "C:\\Users\\csad\\AppData\\Local\\Continuum\\anaconda2\\lib\\site-packages\\ipykernel_launcher.py:10: UserWarning: Pandas doesn't allow columns to be created via a new attribute name - see https://pandas.pydata.org/pandas-docs/stable/indexing.html#attribute-access\n",
      "  # Remove the CWD from sys.path while we load stuff.\n"
     ]
    }
   ],
   "source": [
    "from sklearn.preprocessing import Imputer\n",
    "\n",
    "my_imputer = Imputer()\n",
    "imputed_X_train = pd.DataFrame(my_imputer.fit_transform(X_train))\n",
    "imputed_X_valid = pd.DataFrame(my_imputer.transform(X_valid))\n",
    "imputed_X_test = pd.DataFrame(my_imputer.transform(label_X_test))\n",
    "\n",
    "imputed_X_train.columns = X_train.columns\n",
    "imputed_X_valid.columns = X_valid.columns\n",
    "imputed_X_test.columms = label_X_test.columns"
   ]
  },
  {
   "cell_type": "code",
   "execution_count": 109,
   "metadata": {},
   "outputs": [
    {
     "data": {
      "text/plain": [
       "RandomForestClassifier(bootstrap=True, class_weight=None, criterion='gini',\n",
       "            max_depth=None, max_features='auto', max_leaf_nodes=None,\n",
       "            min_impurity_decrease=0.0, min_impurity_split=None,\n",
       "            min_samples_leaf=1, min_samples_split=2,\n",
       "            min_weight_fraction_leaf=0.0, n_estimators=100, n_jobs=1,\n",
       "            oob_score=False, random_state=None, verbose=0,\n",
       "            warm_start=False)"
      ]
     },
     "execution_count": 109,
     "metadata": {},
     "output_type": "execute_result"
    }
   ],
   "source": [
    "from sklearn.ensemble import RandomForestClassifier\n",
    "\n",
    "rfc = RandomForestClassifier(n_estimators=100)\n",
    "rfc.fit(imputed_X_train, y_train)"
   ]
  },
  {
   "cell_type": "code",
   "execution_count": 110,
   "metadata": {
    "collapsed": true
   },
   "outputs": [],
   "source": [
    "y_preds = rfc.predict(imputed_X_valid)"
   ]
  },
  {
   "cell_type": "code",
   "execution_count": 111,
   "metadata": {},
   "outputs": [
    {
     "data": {
      "text/plain": [
       "0.4331723027375201"
      ]
     },
     "execution_count": 111,
     "metadata": {},
     "output_type": "execute_result"
    }
   ],
   "source": [
    "from sklearn.metrics import f1_score\n",
    "f1_score(y_valid, y_preds)"
   ]
  },
  {
   "cell_type": "code",
   "execution_count": 100,
   "metadata": {},
   "outputs": [
    {
     "name": "stdout",
     "output_type": "stream",
     "text": [
      "(23490L,)\n"
     ]
    }
   ],
   "source": [
    "y_test_preds = rfc.predict(imputed_X_test)\n",
    "print y_test_preds.shape"
   ]
  },
  {
   "cell_type": "code",
   "execution_count": 112,
   "metadata": {},
   "outputs": [
    {
     "name": "stdout",
     "output_type": "stream",
     "text": [
      "(23490, 12)\n",
      "(23490L,)\n"
     ]
    }
   ],
   "source": [
    "print imputed_X_test.shape\n",
    "print data_test.iloc[:, 1].shape\n",
    "output = pd.DataFrame({'employee_id': data_test.iloc[:, 0],\n",
    "                       'is_promoted': y_test_preds})\n",
    "output.to_csv('submission.csv', index=False)"
   ]
  },
  {
   "cell_type": "code",
   "execution_count": null,
   "metadata": {
    "collapsed": true
   },
   "outputs": [],
   "source": []
  }
 ],
 "metadata": {
  "kernelspec": {
   "display_name": "Python 2",
   "language": "python",
   "name": "python2"
  },
  "language_info": {
   "codemirror_mode": {
    "name": "ipython",
    "version": 2
   },
   "file_extension": ".py",
   "mimetype": "text/x-python",
   "name": "python",
   "nbconvert_exporter": "python",
   "pygments_lexer": "ipython2",
   "version": "2.7.15"
  }
 },
 "nbformat": 4,
 "nbformat_minor": 2
}
